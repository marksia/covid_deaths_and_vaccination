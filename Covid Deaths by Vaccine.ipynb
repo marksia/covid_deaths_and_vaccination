{
 "cells": [
  {
   "cell_type": "code",
   "execution_count": 1,
   "id": "e2af59bb",
   "metadata": {},
   "outputs": [],
   "source": [
    "import pandas as pd\n",
    "import numpy as np\n",
    "import matplotlib.pyplot as plt"
   ]
  },
  {
   "cell_type": "code",
   "execution_count": 2,
   "id": "1ca676cb",
   "metadata": {},
   "outputs": [],
   "source": [
    "covid_deaths_original = pd.read_csv('covid_deaths.csv')"
   ]
  },
  {
   "cell_type": "code",
   "execution_count": 3,
   "id": "5b4d7b06",
   "metadata": {},
   "outputs": [
    {
     "data": {
      "text/plain": [
       "(31265, 15)"
      ]
     },
     "execution_count": 3,
     "metadata": {},
     "output_type": "execute_result"
    }
   ],
   "source": [
    "covid_deaths_original.shape"
   ]
  },
  {
   "cell_type": "code",
   "execution_count": 4,
   "id": "e982332c",
   "metadata": {},
   "outputs": [
    {
     "data": {
      "text/html": [
       "<div>\n",
       "<style scoped>\n",
       "    .dataframe tbody tr th:only-of-type {\n",
       "        vertical-align: middle;\n",
       "    }\n",
       "\n",
       "    .dataframe tbody tr th {\n",
       "        vertical-align: top;\n",
       "    }\n",
       "\n",
       "    .dataframe thead th {\n",
       "        text-align: right;\n",
       "    }\n",
       "</style>\n",
       "<table border=\"1\" class=\"dataframe\">\n",
       "  <thead>\n",
       "    <tr style=\"text-align: right;\">\n",
       "      <th></th>\n",
       "      <th>age</th>\n",
       "      <th>male</th>\n",
       "      <th>bid</th>\n",
       "      <th>malaysian</th>\n",
       "      <th>comorb</th>\n",
       "    </tr>\n",
       "  </thead>\n",
       "  <tbody>\n",
       "    <tr>\n",
       "      <th>count</th>\n",
       "      <td>31265.000000</td>\n",
       "      <td>31265.000000</td>\n",
       "      <td>31265.000000</td>\n",
       "      <td>31265.000000</td>\n",
       "      <td>31265.000000</td>\n",
       "    </tr>\n",
       "    <tr>\n",
       "      <th>mean</th>\n",
       "      <td>61.423541</td>\n",
       "      <td>0.574412</td>\n",
       "      <td>0.202015</td>\n",
       "      <td>0.879450</td>\n",
       "      <td>0.774060</td>\n",
       "    </tr>\n",
       "    <tr>\n",
       "      <th>std</th>\n",
       "      <td>16.172543</td>\n",
       "      <td>0.494440</td>\n",
       "      <td>0.401510</td>\n",
       "      <td>0.325609</td>\n",
       "      <td>0.418206</td>\n",
       "    </tr>\n",
       "    <tr>\n",
       "      <th>min</th>\n",
       "      <td>0.000000</td>\n",
       "      <td>0.000000</td>\n",
       "      <td>0.000000</td>\n",
       "      <td>0.000000</td>\n",
       "      <td>0.000000</td>\n",
       "    </tr>\n",
       "    <tr>\n",
       "      <th>25%</th>\n",
       "      <td>50.000000</td>\n",
       "      <td>0.000000</td>\n",
       "      <td>0.000000</td>\n",
       "      <td>1.000000</td>\n",
       "      <td>1.000000</td>\n",
       "    </tr>\n",
       "    <tr>\n",
       "      <th>50%</th>\n",
       "      <td>62.000000</td>\n",
       "      <td>1.000000</td>\n",
       "      <td>0.000000</td>\n",
       "      <td>1.000000</td>\n",
       "      <td>1.000000</td>\n",
       "    </tr>\n",
       "    <tr>\n",
       "      <th>75%</th>\n",
       "      <td>73.000000</td>\n",
       "      <td>1.000000</td>\n",
       "      <td>0.000000</td>\n",
       "      <td>1.000000</td>\n",
       "      <td>1.000000</td>\n",
       "    </tr>\n",
       "    <tr>\n",
       "      <th>max</th>\n",
       "      <td>130.000000</td>\n",
       "      <td>1.000000</td>\n",
       "      <td>1.000000</td>\n",
       "      <td>1.000000</td>\n",
       "      <td>1.000000</td>\n",
       "    </tr>\n",
       "  </tbody>\n",
       "</table>\n",
       "</div>"
      ],
      "text/plain": [
       "                age          male           bid     malaysian        comorb\n",
       "count  31265.000000  31265.000000  31265.000000  31265.000000  31265.000000\n",
       "mean      61.423541      0.574412      0.202015      0.879450      0.774060\n",
       "std       16.172543      0.494440      0.401510      0.325609      0.418206\n",
       "min        0.000000      0.000000      0.000000      0.000000      0.000000\n",
       "25%       50.000000      0.000000      0.000000      1.000000      1.000000\n",
       "50%       62.000000      1.000000      0.000000      1.000000      1.000000\n",
       "75%       73.000000      1.000000      0.000000      1.000000      1.000000\n",
       "max      130.000000      1.000000      1.000000      1.000000      1.000000"
      ]
     },
     "execution_count": 4,
     "metadata": {},
     "output_type": "execute_result"
    }
   ],
   "source": [
    "covid_deaths_original.describe()"
   ]
  },
  {
   "cell_type": "code",
   "execution_count": 5,
   "id": "2a774a8b",
   "metadata": {},
   "outputs": [
    {
     "data": {
      "text/html": [
       "<div>\n",
       "<style scoped>\n",
       "    .dataframe tbody tr th:only-of-type {\n",
       "        vertical-align: middle;\n",
       "    }\n",
       "\n",
       "    .dataframe tbody tr th {\n",
       "        vertical-align: top;\n",
       "    }\n",
       "\n",
       "    .dataframe thead th {\n",
       "        text-align: right;\n",
       "    }\n",
       "</style>\n",
       "<table border=\"1\" class=\"dataframe\">\n",
       "  <thead>\n",
       "    <tr style=\"text-align: right;\">\n",
       "      <th></th>\n",
       "      <th>date</th>\n",
       "      <th>date_announced</th>\n",
       "      <th>date_positive</th>\n",
       "      <th>date_dose1</th>\n",
       "      <th>date_dose2</th>\n",
       "      <th>date_dose3</th>\n",
       "      <th>brand1</th>\n",
       "      <th>brand2</th>\n",
       "      <th>brand3</th>\n",
       "      <th>state</th>\n",
       "      <th>age</th>\n",
       "      <th>male</th>\n",
       "      <th>bid</th>\n",
       "      <th>malaysian</th>\n",
       "      <th>comorb</th>\n",
       "    </tr>\n",
       "  </thead>\n",
       "  <tbody>\n",
       "    <tr>\n",
       "      <th>0</th>\n",
       "      <td>2020-03-17</td>\n",
       "      <td>2020-03-17</td>\n",
       "      <td>2020-03-12</td>\n",
       "      <td>NaN</td>\n",
       "      <td>NaN</td>\n",
       "      <td>NaN</td>\n",
       "      <td>NaN</td>\n",
       "      <td>NaN</td>\n",
       "      <td>NaN</td>\n",
       "      <td>Johor</td>\n",
       "      <td>34</td>\n",
       "      <td>1</td>\n",
       "      <td>0</td>\n",
       "      <td>1</td>\n",
       "      <td>1</td>\n",
       "    </tr>\n",
       "    <tr>\n",
       "      <th>1</th>\n",
       "      <td>2020-03-17</td>\n",
       "      <td>2020-03-17</td>\n",
       "      <td>2020-03-15</td>\n",
       "      <td>NaN</td>\n",
       "      <td>NaN</td>\n",
       "      <td>NaN</td>\n",
       "      <td>NaN</td>\n",
       "      <td>NaN</td>\n",
       "      <td>NaN</td>\n",
       "      <td>Sarawak</td>\n",
       "      <td>60</td>\n",
       "      <td>1</td>\n",
       "      <td>0</td>\n",
       "      <td>1</td>\n",
       "      <td>1</td>\n",
       "    </tr>\n",
       "    <tr>\n",
       "      <th>2</th>\n",
       "      <td>2020-03-20</td>\n",
       "      <td>2020-03-20</td>\n",
       "      <td>2020-03-11</td>\n",
       "      <td>NaN</td>\n",
       "      <td>NaN</td>\n",
       "      <td>NaN</td>\n",
       "      <td>NaN</td>\n",
       "      <td>NaN</td>\n",
       "      <td>NaN</td>\n",
       "      <td>Sabah</td>\n",
       "      <td>58</td>\n",
       "      <td>1</td>\n",
       "      <td>0</td>\n",
       "      <td>1</td>\n",
       "      <td>1</td>\n",
       "    </tr>\n",
       "    <tr>\n",
       "      <th>3</th>\n",
       "      <td>2020-03-21</td>\n",
       "      <td>2020-03-21</td>\n",
       "      <td>2020-03-17</td>\n",
       "      <td>NaN</td>\n",
       "      <td>NaN</td>\n",
       "      <td>NaN</td>\n",
       "      <td>NaN</td>\n",
       "      <td>NaN</td>\n",
       "      <td>NaN</td>\n",
       "      <td>Kelantan</td>\n",
       "      <td>69</td>\n",
       "      <td>1</td>\n",
       "      <td>0</td>\n",
       "      <td>1</td>\n",
       "      <td>1</td>\n",
       "    </tr>\n",
       "    <tr>\n",
       "      <th>4</th>\n",
       "      <td>2020-03-21</td>\n",
       "      <td>2020-03-21</td>\n",
       "      <td>2020-03-13</td>\n",
       "      <td>NaN</td>\n",
       "      <td>NaN</td>\n",
       "      <td>NaN</td>\n",
       "      <td>NaN</td>\n",
       "      <td>NaN</td>\n",
       "      <td>NaN</td>\n",
       "      <td>Melaka</td>\n",
       "      <td>50</td>\n",
       "      <td>1</td>\n",
       "      <td>0</td>\n",
       "      <td>1</td>\n",
       "      <td>1</td>\n",
       "    </tr>\n",
       "  </tbody>\n",
       "</table>\n",
       "</div>"
      ],
      "text/plain": [
       "         date date_announced date_positive date_dose1 date_dose2 date_dose3  \\\n",
       "0  2020-03-17     2020-03-17    2020-03-12        NaN        NaN        NaN   \n",
       "1  2020-03-17     2020-03-17    2020-03-15        NaN        NaN        NaN   \n",
       "2  2020-03-20     2020-03-20    2020-03-11        NaN        NaN        NaN   \n",
       "3  2020-03-21     2020-03-21    2020-03-17        NaN        NaN        NaN   \n",
       "4  2020-03-21     2020-03-21    2020-03-13        NaN        NaN        NaN   \n",
       "\n",
       "  brand1 brand2 brand3     state  age  male  bid  malaysian  comorb  \n",
       "0    NaN    NaN    NaN     Johor   34     1    0          1       1  \n",
       "1    NaN    NaN    NaN   Sarawak   60     1    0          1       1  \n",
       "2    NaN    NaN    NaN     Sabah   58     1    0          1       1  \n",
       "3    NaN    NaN    NaN  Kelantan   69     1    0          1       1  \n",
       "4    NaN    NaN    NaN    Melaka   50     1    0          1       1  "
      ]
     },
     "execution_count": 5,
     "metadata": {},
     "output_type": "execute_result"
    }
   ],
   "source": [
    "covid_deaths_original.head()"
   ]
  },
  {
   "cell_type": "code",
   "execution_count": 6,
   "id": "5e35822b",
   "metadata": {},
   "outputs": [
    {
     "data": {
      "text/plain": [
       "1    24201\n",
       "0     7064\n",
       "Name: comorb, dtype: int64"
      ]
     },
     "execution_count": 6,
     "metadata": {},
     "output_type": "execute_result"
    }
   ],
   "source": [
    "covid_deaths_original['comorb'].value_counts()"
   ]
  },
  {
   "cell_type": "code",
   "execution_count": 7,
   "id": "b744ddc6",
   "metadata": {},
   "outputs": [
    {
     "data": {
      "text/html": [
       "<div>\n",
       "<style scoped>\n",
       "    .dataframe tbody tr th:only-of-type {\n",
       "        vertical-align: middle;\n",
       "    }\n",
       "\n",
       "    .dataframe tbody tr th {\n",
       "        vertical-align: top;\n",
       "    }\n",
       "\n",
       "    .dataframe thead th {\n",
       "        text-align: right;\n",
       "    }\n",
       "</style>\n",
       "<table border=\"1\" class=\"dataframe\">\n",
       "  <thead>\n",
       "    <tr style=\"text-align: right;\">\n",
       "      <th></th>\n",
       "      <th>date</th>\n",
       "      <th>date_announced</th>\n",
       "      <th>date_positive</th>\n",
       "      <th>date_dose1</th>\n",
       "      <th>date_dose2</th>\n",
       "      <th>date_dose3</th>\n",
       "      <th>brand1</th>\n",
       "      <th>brand2</th>\n",
       "      <th>brand3</th>\n",
       "      <th>state</th>\n",
       "      <th>age</th>\n",
       "      <th>male</th>\n",
       "      <th>bid</th>\n",
       "      <th>malaysian</th>\n",
       "      <th>comorb</th>\n",
       "    </tr>\n",
       "  </thead>\n",
       "  <tbody>\n",
       "    <tr>\n",
       "      <th>125</th>\n",
       "      <td>2020-08-10</td>\n",
       "      <td>2021-08-31</td>\n",
       "      <td>2020-08-10</td>\n",
       "      <td>NaN</td>\n",
       "      <td>NaN</td>\n",
       "      <td>NaN</td>\n",
       "      <td>NaN</td>\n",
       "      <td>NaN</td>\n",
       "      <td>NaN</td>\n",
       "      <td>Melaka</td>\n",
       "      <td>43</td>\n",
       "      <td>1</td>\n",
       "      <td>0</td>\n",
       "      <td>1</td>\n",
       "      <td>0</td>\n",
       "    </tr>\n",
       "    <tr>\n",
       "      <th>280</th>\n",
       "      <td>2020-11-03</td>\n",
       "      <td>2020-11-05</td>\n",
       "      <td>2020-10-22</td>\n",
       "      <td>NaN</td>\n",
       "      <td>NaN</td>\n",
       "      <td>NaN</td>\n",
       "      <td>NaN</td>\n",
       "      <td>NaN</td>\n",
       "      <td>NaN</td>\n",
       "      <td>Sabah</td>\n",
       "      <td>54</td>\n",
       "      <td>1</td>\n",
       "      <td>0</td>\n",
       "      <td>1</td>\n",
       "      <td>0</td>\n",
       "    </tr>\n",
       "    <tr>\n",
       "      <th>299</th>\n",
       "      <td>2020-11-06</td>\n",
       "      <td>2020-11-09</td>\n",
       "      <td>2020-11-06</td>\n",
       "      <td>NaN</td>\n",
       "      <td>NaN</td>\n",
       "      <td>NaN</td>\n",
       "      <td>NaN</td>\n",
       "      <td>NaN</td>\n",
       "      <td>NaN</td>\n",
       "      <td>Sabah</td>\n",
       "      <td>65</td>\n",
       "      <td>0</td>\n",
       "      <td>1</td>\n",
       "      <td>0</td>\n",
       "      <td>0</td>\n",
       "    </tr>\n",
       "    <tr>\n",
       "      <th>306</th>\n",
       "      <td>2020-11-08</td>\n",
       "      <td>2020-11-09</td>\n",
       "      <td>2020-10-26</td>\n",
       "      <td>NaN</td>\n",
       "      <td>NaN</td>\n",
       "      <td>NaN</td>\n",
       "      <td>NaN</td>\n",
       "      <td>NaN</td>\n",
       "      <td>NaN</td>\n",
       "      <td>Sabah</td>\n",
       "      <td>66</td>\n",
       "      <td>1</td>\n",
       "      <td>0</td>\n",
       "      <td>1</td>\n",
       "      <td>0</td>\n",
       "    </tr>\n",
       "    <tr>\n",
       "      <th>310</th>\n",
       "      <td>2020-11-11</td>\n",
       "      <td>2020-11-13</td>\n",
       "      <td>2020-11-10</td>\n",
       "      <td>NaN</td>\n",
       "      <td>NaN</td>\n",
       "      <td>NaN</td>\n",
       "      <td>NaN</td>\n",
       "      <td>NaN</td>\n",
       "      <td>NaN</td>\n",
       "      <td>Sabah</td>\n",
       "      <td>70</td>\n",
       "      <td>1</td>\n",
       "      <td>1</td>\n",
       "      <td>1</td>\n",
       "      <td>0</td>\n",
       "    </tr>\n",
       "    <tr>\n",
       "      <th>...</th>\n",
       "      <td>...</td>\n",
       "      <td>...</td>\n",
       "      <td>...</td>\n",
       "      <td>...</td>\n",
       "      <td>...</td>\n",
       "      <td>...</td>\n",
       "      <td>...</td>\n",
       "      <td>...</td>\n",
       "      <td>...</td>\n",
       "      <td>...</td>\n",
       "      <td>...</td>\n",
       "      <td>...</td>\n",
       "      <td>...</td>\n",
       "      <td>...</td>\n",
       "      <td>...</td>\n",
       "    </tr>\n",
       "    <tr>\n",
       "      <th>31217</th>\n",
       "      <td>2021-12-20</td>\n",
       "      <td>2021-12-23</td>\n",
       "      <td>2021-12-16</td>\n",
       "      <td>2021-09-22</td>\n",
       "      <td>2021-10-13</td>\n",
       "      <td>NaN</td>\n",
       "      <td>Sinovac</td>\n",
       "      <td>Sinovac</td>\n",
       "      <td>NaN</td>\n",
       "      <td>Kelantan</td>\n",
       "      <td>46</td>\n",
       "      <td>0</td>\n",
       "      <td>0</td>\n",
       "      <td>1</td>\n",
       "      <td>0</td>\n",
       "    </tr>\n",
       "    <tr>\n",
       "      <th>31221</th>\n",
       "      <td>2021-12-20</td>\n",
       "      <td>2021-12-22</td>\n",
       "      <td>2021-12-07</td>\n",
       "      <td>NaN</td>\n",
       "      <td>NaN</td>\n",
       "      <td>NaN</td>\n",
       "      <td>NaN</td>\n",
       "      <td>NaN</td>\n",
       "      <td>NaN</td>\n",
       "      <td>Pahang</td>\n",
       "      <td>59</td>\n",
       "      <td>1</td>\n",
       "      <td>0</td>\n",
       "      <td>1</td>\n",
       "      <td>0</td>\n",
       "    </tr>\n",
       "    <tr>\n",
       "      <th>31235</th>\n",
       "      <td>2021-12-20</td>\n",
       "      <td>2021-12-23</td>\n",
       "      <td>2021-12-01</td>\n",
       "      <td>2021-08-23</td>\n",
       "      <td>2021-09-13</td>\n",
       "      <td>NaN</td>\n",
       "      <td>Pfizer</td>\n",
       "      <td>Pfizer</td>\n",
       "      <td>NaN</td>\n",
       "      <td>Selangor</td>\n",
       "      <td>67</td>\n",
       "      <td>1</td>\n",
       "      <td>0</td>\n",
       "      <td>1</td>\n",
       "      <td>0</td>\n",
       "    </tr>\n",
       "    <tr>\n",
       "      <th>31244</th>\n",
       "      <td>2021-12-21</td>\n",
       "      <td>2021-12-23</td>\n",
       "      <td>2021-12-09</td>\n",
       "      <td>2021-08-23</td>\n",
       "      <td>2021-09-13</td>\n",
       "      <td>NaN</td>\n",
       "      <td>Sinovac</td>\n",
       "      <td>Sinovac</td>\n",
       "      <td>NaN</td>\n",
       "      <td>Johor</td>\n",
       "      <td>85</td>\n",
       "      <td>1</td>\n",
       "      <td>1</td>\n",
       "      <td>1</td>\n",
       "      <td>0</td>\n",
       "    </tr>\n",
       "    <tr>\n",
       "      <th>31252</th>\n",
       "      <td>2021-12-21</td>\n",
       "      <td>2021-12-23</td>\n",
       "      <td>2021-12-21</td>\n",
       "      <td>2021-08-12</td>\n",
       "      <td>2021-09-02</td>\n",
       "      <td>NaN</td>\n",
       "      <td>Sinovac</td>\n",
       "      <td>Sinovac</td>\n",
       "      <td>NaN</td>\n",
       "      <td>Perak</td>\n",
       "      <td>30</td>\n",
       "      <td>0</td>\n",
       "      <td>1</td>\n",
       "      <td>0</td>\n",
       "      <td>0</td>\n",
       "    </tr>\n",
       "  </tbody>\n",
       "</table>\n",
       "<p>7064 rows × 15 columns</p>\n",
       "</div>"
      ],
      "text/plain": [
       "             date date_announced date_positive  date_dose1  date_dose2  \\\n",
       "125    2020-08-10     2021-08-31    2020-08-10         NaN         NaN   \n",
       "280    2020-11-03     2020-11-05    2020-10-22         NaN         NaN   \n",
       "299    2020-11-06     2020-11-09    2020-11-06         NaN         NaN   \n",
       "306    2020-11-08     2020-11-09    2020-10-26         NaN         NaN   \n",
       "310    2020-11-11     2020-11-13    2020-11-10         NaN         NaN   \n",
       "...           ...            ...           ...         ...         ...   \n",
       "31217  2021-12-20     2021-12-23    2021-12-16  2021-09-22  2021-10-13   \n",
       "31221  2021-12-20     2021-12-22    2021-12-07         NaN         NaN   \n",
       "31235  2021-12-20     2021-12-23    2021-12-01  2021-08-23  2021-09-13   \n",
       "31244  2021-12-21     2021-12-23    2021-12-09  2021-08-23  2021-09-13   \n",
       "31252  2021-12-21     2021-12-23    2021-12-21  2021-08-12  2021-09-02   \n",
       "\n",
       "      date_dose3   brand1   brand2 brand3     state  age  male  bid  \\\n",
       "125          NaN      NaN      NaN    NaN    Melaka   43     1    0   \n",
       "280          NaN      NaN      NaN    NaN     Sabah   54     1    0   \n",
       "299          NaN      NaN      NaN    NaN     Sabah   65     0    1   \n",
       "306          NaN      NaN      NaN    NaN     Sabah   66     1    0   \n",
       "310          NaN      NaN      NaN    NaN     Sabah   70     1    1   \n",
       "...          ...      ...      ...    ...       ...  ...   ...  ...   \n",
       "31217        NaN  Sinovac  Sinovac    NaN  Kelantan   46     0    0   \n",
       "31221        NaN      NaN      NaN    NaN    Pahang   59     1    0   \n",
       "31235        NaN   Pfizer   Pfizer    NaN  Selangor   67     1    0   \n",
       "31244        NaN  Sinovac  Sinovac    NaN     Johor   85     1    1   \n",
       "31252        NaN  Sinovac  Sinovac    NaN     Perak   30     0    1   \n",
       "\n",
       "       malaysian  comorb  \n",
       "125            1       0  \n",
       "280            1       0  \n",
       "299            0       0  \n",
       "306            1       0  \n",
       "310            1       0  \n",
       "...          ...     ...  \n",
       "31217          1       0  \n",
       "31221          1       0  \n",
       "31235          1       0  \n",
       "31244          1       0  \n",
       "31252          0       0  \n",
       "\n",
       "[7064 rows x 15 columns]"
      ]
     },
     "execution_count": 7,
     "metadata": {},
     "output_type": "execute_result"
    }
   ],
   "source": [
    "covid_deaths_original[covid_deaths_original['comorb'] == 0]"
   ]
  },
  {
   "cell_type": "code",
   "execution_count": 8,
   "id": "f3badefe",
   "metadata": {},
   "outputs": [],
   "source": [
    "covid_deaths_original['age'] = pd.to_numeric(covid_deaths_original['age'])"
   ]
  },
  {
   "cell_type": "code",
   "execution_count": 9,
   "id": "35d0fc0f",
   "metadata": {},
   "outputs": [],
   "source": [
    "# Remove cases with commorbities\n",
    "covid_deaths = covid_deaths_original[covid_deaths_original['comorb'] == 0]"
   ]
  },
  {
   "cell_type": "code",
   "execution_count": 10,
   "id": "85755289",
   "metadata": {},
   "outputs": [
    {
     "data": {
      "text/plain": [
       "(7064, 15)"
      ]
     },
     "execution_count": 10,
     "metadata": {},
     "output_type": "execute_result"
    }
   ],
   "source": [
    "covid_deaths.shape"
   ]
  },
  {
   "cell_type": "code",
   "execution_count": 11,
   "id": "7666b21b",
   "metadata": {},
   "outputs": [],
   "source": [
    "# Remove cases for ages above 65\n",
    "# covid_deaths = covid_deaths[covid_deaths['age'] < 65]"
   ]
  },
  {
   "cell_type": "code",
   "execution_count": 12,
   "id": "95a45eb7",
   "metadata": {},
   "outputs": [
    {
     "data": {
      "text/plain": [
       "(7064, 15)"
      ]
     },
     "execution_count": 12,
     "metadata": {},
     "output_type": "execute_result"
    }
   ],
   "source": [
    "covid_deaths.shape"
   ]
  },
  {
   "cell_type": "code",
   "execution_count": 13,
   "id": "7d20c899",
   "metadata": {},
   "outputs": [
    {
     "data": {
      "text/plain": [
       "6459"
      ]
     },
     "execution_count": 13,
     "metadata": {},
     "output_type": "execute_result"
    }
   ],
   "source": [
    "# Individuals without 2 doses count\n",
    "covid_deaths['brand2'].isnull().sum()"
   ]
  },
  {
   "cell_type": "code",
   "execution_count": 14,
   "id": "4d04a930",
   "metadata": {},
   "outputs": [],
   "source": [
    "# Remove unvaccinated or single dose, keep those with at least 2 doses\n",
    "covid_deaths = covid_deaths[covid_deaths['brand2'].notnull()]"
   ]
  },
  {
   "cell_type": "code",
   "execution_count": 15,
   "id": "04cb5e74",
   "metadata": {},
   "outputs": [
    {
     "data": {
      "text/plain": [
       "(605, 15)"
      ]
     },
     "execution_count": 15,
     "metadata": {},
     "output_type": "execute_result"
    }
   ],
   "source": [
    "covid_deaths.shape"
   ]
  },
  {
   "cell_type": "code",
   "execution_count": 16,
   "id": "8ff05ead",
   "metadata": {},
   "outputs": [
    {
     "data": {
      "text/plain": [
       "Sinovac             489\n",
       "Pfizer              101\n",
       "AstraZeneca          14\n",
       "Pending VMS sync      1\n",
       "Name: brand2, dtype: int64"
      ]
     },
     "execution_count": 16,
     "metadata": {},
     "output_type": "execute_result"
    }
   ],
   "source": [
    "covid_deaths_by_brand = covid_deaths.brand2.value_counts()\n",
    "covid_deaths_by_brand"
   ]
  },
  {
   "cell_type": "code",
   "execution_count": 17,
   "id": "d8a62b98",
   "metadata": {},
   "outputs": [],
   "source": [
    "sinovac_vaccinated_deaths_percentage = covid_deaths_by_brand[\"Sinovac\"]/covid_deaths.shape[0] * 100\n",
    "pfizer_vaccinated_deaths_percentage = covid_deaths_by_brand[\"Pfizer\"]/covid_deaths.shape[0] * 100\n",
    "az_vaccinated_deaths_percentage = covid_deaths_by_brand[\"AstraZeneca\"]/covid_deaths.shape[0] * 100"
   ]
  },
  {
   "cell_type": "code",
   "execution_count": 18,
   "id": "0e7cbe9a",
   "metadata": {},
   "outputs": [
    {
     "name": "stdout",
     "output_type": "stream",
     "text": [
      "Sinovac: 80.83%\n",
      "Pfizer: 16.69%\n",
      "AstraZeneca: 2.31%\n"
     ]
    }
   ],
   "source": [
    "print(f'Sinovac: {sinovac_vaccinated_deaths_percentage:.2f}%')\n",
    "print(f'Pfizer: {pfizer_vaccinated_deaths_percentage:.2f}%')\n",
    "print(f'AstraZeneca: {az_vaccinated_deaths_percentage:.2f}%')"
   ]
  },
  {
   "cell_type": "code",
   "execution_count": 19,
   "id": "b233e9dc",
   "metadata": {},
   "outputs": [
    {
     "data": {
      "image/png": "[encoded data removed]",
      "text/plain": [
       "<Figure size 864x360 with 1 Axes>"
      ]
     },
     "metadata": {
      "needs_background": "light"
     },
     "output_type": "display_data"
    }
   ],
   "source": [
    "# covid_deaths_by_brand.plot(kind='bar', figsize=(12,5), color=['blue', 'orange', 'green'])\n",
    "\n",
    "x = ['Sinovac', 'Pfizer', 'AstraZeneca']\n",
    "y = [covid_deaths_by_brand.Sinovac, covid_deaths_by_brand.Pfizer, covid_deaths_by_brand.AstraZeneca]\n",
    "plt.figure(figsize=(12, 5))\n",
    "fig = plt.bar(x, height=y, color=['cyan', 'pink', 'green'])\n",
    "plt.bar_label(fig)\n",
    "\n",
    "\n",
    "plt.ylabel('Count')\n",
    "plt.xlabel('Vaccine Brands')\n",
    "plt.title('Vaccinated Deaths By Brand After Removing Commorbidities')\n",
    "plt.show()\n"
   ]
  },
  {
   "cell_type": "code",
   "execution_count": 20,
   "id": "f357b10a",
   "metadata": {},
   "outputs": [
    {
     "data": {
      "image/png": "[encoded data removed]",
      "text/plain": [
       "<Figure size 864x360 with 1 Axes>"
      ]
     },
     "metadata": {
      "needs_background": "light"
     },
     "output_type": "display_data"
    }
   ],
   "source": [
    "x = ['Sinovac', 'Pfizer', 'AstraZeneca']\n",
    "y = [sinovac_vaccinated_deaths_percentage, pfizer_vaccinated_deaths_percentage, az_vaccinated_deaths_percentage]\n",
    "plt.figure(figsize=(12, 5))\n",
    "fig = plt.bar(x, height=y, color=['cyan', 'pink', 'green'])\n",
    "plt.bar_label(fig, labels=['%.2f%%' % e for e in y])\n",
    "plt.ylabel('Percentage')\n",
    "plt.xlabel('Vaccinne Brands')\n",
    "plt.title('Vaccinated Deaths By Brand After Removing Commorbidities (%)')\n",
    "\n",
    "plt.show()"
   ]
  },
  {
   "cell_type": "code",
   "execution_count": 27,
   "id": "1f7890ea",
   "metadata": {},
   "outputs": [],
   "source": [
    "covid_deaths_sinovac = covid_deaths[covid_deaths['brand2'] == 'Sinovac']\n",
    "sinovac_below_15 = covid_deaths_sinovac[covid_deaths_sinovac.age < 15].sum().sum()\n",
    "sinovac_between_15_and_30 = covid_deaths_sinovac.age.between(15,30).sum()\n",
    "sinovac_between_31_and_40 = covid_deaths_sinovac.age.between(31,40).sum()\n",
    "sinovac_between_41_and_50 = covid_deaths_sinovac.age.between(41,50).sum()\n",
    "sinovac_between_51_and_60 = covid_deaths_sinovac.age.between(51,60).sum()\n",
    "sinovac_between_61_and_70 = covid_deaths_sinovac.age.between(61,70).sum()\n",
    "sinovac_above_71 = covid_deaths_sinovac[covid_deaths_sinovac.age >= 71].age.count()"
   ]
  },
  {
   "cell_type": "code",
   "execution_count": 28,
   "id": "149f69b7",
   "metadata": {},
   "outputs": [],
   "source": [
    "covid_deaths_pfizer = covid_deaths[covid_deaths['brand2'] == 'Pfizer']\n",
    "pfizer_below_15 = covid_deaths_pfizer[covid_deaths_pfizer.age < 15].sum().sum()\n",
    "pfizer_between_15_and_30 = covid_deaths_pfizer.age.between(15,30).sum()\n",
    "pfizer_between_31_and_40 = covid_deaths_pfizer.age.between(31,40).sum()\n",
    "pfizer_between_41_and_50 = covid_deaths_pfizer.age.between(41,50).sum()\n",
    "pfizer_between_51_and_60 = covid_deaths_pfizer.age.between(51,60).sum()\n",
    "pfizer_between_61_and_70 = covid_deaths_pfizer.age.between(61,70).sum()\n",
    "pfizer_above_71 = covid_deaths_pfizer[covid_deaths_pfizer.age >= 71].age.count()"
   ]
  },
  {
   "cell_type": "code",
   "execution_count": 29,
   "id": "05daeea9",
   "metadata": {},
   "outputs": [],
   "source": [
    "covid_deaths_az = covid_deaths[covid_deaths['brand2'] == 'AstraZeneca']\n",
    "az_below_15 = covid_deaths_az[covid_deaths_az.age < 15].sum().sum()\n",
    "az_between_15_and_30 = covid_deaths_az.age.between(15,30).sum()\n",
    "az_between_31_and_40 = covid_deaths_az.age.between(31,40).sum()\n",
    "az_between_41_and_50 = covid_deaths_az.age.between(41,50).sum()\n",
    "az_between_51_and_60 = covid_deaths_az.age.between(51,60).sum()\n",
    "az_between_61_and_70 = covid_deaths_az.age.between(61,70).sum()\n",
    "az_above_71 = covid_deaths_az[covid_deaths_az.age >= 71].age.count()"
   ]
  },
  {
   "cell_type": "code",
   "execution_count": 30,
   "id": "f9ec5b4f",
   "metadata": {},
   "outputs": [],
   "source": [
    "data = [['Sinovac', sinovac_below_15, sinovac_between_15_and_30, sinovac_between_31_and_40, sinovac_between_41_and_50,  sinovac_between_51_and_60, sinovac_between_61_and_70, sinovac_above_71],\n",
    "        ['Pfizer', pfizer_below_15, pfizer_between_15_and_30, pfizer_between_31_and_40, pfizer_between_41_and_50,  pfizer_between_51_and_60, pfizer_between_61_and_70, pfizer_above_71],\n",
    "        ['AstraZeneca', az_below_15, az_between_15_and_30, az_between_31_and_40, az_between_41_and_50, az_between_51_and_60, az_between_61_and_70, az_above_71]\n",
    "       ]\n",
    "\n",
    "vaccine_deaths_by_age_group = pd.DataFrame(data, columns = ['Vaccine', 'Age <15', 'Age Between 15 & 30', 'Age Between 31 & 40', 'Age Between 41 & 50', 'Age Between 51 & 60', 'Age Between 61 & 70', 'Age Above 71'])"
   ]
  },
  {
   "cell_type": "code",
   "execution_count": 31,
   "id": "9876e625",
   "metadata": {},
   "outputs": [
    {
     "data": {
      "text/html": [
       "<div>\n",
       "<style scoped>\n",
       "    .dataframe tbody tr th:only-of-type {\n",
       "        vertical-align: middle;\n",
       "    }\n",
       "\n",
       "    .dataframe tbody tr th {\n",
       "        vertical-align: top;\n",
       "    }\n",
       "\n",
       "    .dataframe thead th {\n",
       "        text-align: right;\n",
       "    }\n",
       "</style>\n",
       "<table border=\"1\" class=\"dataframe\">\n",
       "  <thead>\n",
       "    <tr style=\"text-align: right;\">\n",
       "      <th></th>\n",
       "      <th>Vaccine</th>\n",
       "      <th>Age &lt;15</th>\n",
       "      <th>Age Between 15 &amp; 30</th>\n",
       "      <th>Age Between 31 &amp; 40</th>\n",
       "      <th>Age Between 41 &amp; 50</th>\n",
       "      <th>Age Between 51 &amp; 60</th>\n",
       "      <th>Age Between 61 &amp; 70</th>\n",
       "      <th>Age Above 71</th>\n",
       "    </tr>\n",
       "  </thead>\n",
       "  <tbody>\n",
       "    <tr>\n",
       "      <th>0</th>\n",
       "      <td>Sinovac</td>\n",
       "      <td>0.0</td>\n",
       "      <td>9</td>\n",
       "      <td>26</td>\n",
       "      <td>56</td>\n",
       "      <td>95</td>\n",
       "      <td>146</td>\n",
       "      <td>157</td>\n",
       "    </tr>\n",
       "    <tr>\n",
       "      <th>1</th>\n",
       "      <td>Pfizer</td>\n",
       "      <td>0.0</td>\n",
       "      <td>1</td>\n",
       "      <td>7</td>\n",
       "      <td>13</td>\n",
       "      <td>12</td>\n",
       "      <td>20</td>\n",
       "      <td>48</td>\n",
       "    </tr>\n",
       "    <tr>\n",
       "      <th>2</th>\n",
       "      <td>AstraZeneca</td>\n",
       "      <td>0.0</td>\n",
       "      <td>0</td>\n",
       "      <td>1</td>\n",
       "      <td>2</td>\n",
       "      <td>2</td>\n",
       "      <td>5</td>\n",
       "      <td>4</td>\n",
       "    </tr>\n",
       "  </tbody>\n",
       "</table>\n",
       "</div>"
      ],
      "text/plain": [
       "       Vaccine  Age <15  Age Between 15 & 30  Age Between 31 & 40  \\\n",
       "0      Sinovac      0.0                    9                   26   \n",
       "1       Pfizer      0.0                    1                    7   \n",
       "2  AstraZeneca      0.0                    0                    1   \n",
       "\n",
       "   Age Between 41 & 50  Age Between 51 & 60  Age Between 61 & 70  Age Above 71  \n",
       "0                   56                   95                  146           157  \n",
       "1                   13                   12                   20            48  \n",
       "2                    2                    2                    5             4  "
      ]
     },
     "execution_count": 31,
     "metadata": {},
     "output_type": "execute_result"
    }
   ],
   "source": [
    "vaccine_deaths_by_age_group"
   ]
  },
  {
   "cell_type": "code",
   "execution_count": 32,
   "id": "be387309",
   "metadata": {},
   "outputs": [
    {
     "data": {
      "image/png": "[encoded data removed]",
      "text/plain": [
       "<Figure size 1008x360 with 1 Axes>"
      ]
     },
     "metadata": {
      "needs_background": "light"
     },
     "output_type": "display_data"
    }
   ],
   "source": [
    "vaccine_deaths_by_age_group.plot(kind='bar', figsize=(14,5), x='Vaccine')\n",
    "plt.ylabel('Count')\n",
    "plt.xlabel('Vaccine Brand By Age Group')\n",
    "plt.title('Vaccinated Deaths By Brand And Age Group After Removing Commorbidities')\n",
    "plt.show()\n"
   ]
  },
  {
   "cell_type": "code",
   "execution_count": 33,
   "id": "9102eaee",
   "metadata": {},
   "outputs": [
    {
     "name": "stdout",
     "output_type": "stream",
     "text": [
      "If you took 2 doses of Sinovac, and without commorbidities, you have 1.56% chance of death by covid\n",
      "If you took 2 doses of Pfizer, and without commorbidities, you have 0.32% of death by covid\n",
      "If you took 2 doses of AstraZeneca, and without commorbidities, you have 0.04% of death by covid\n"
     ]
    }
   ],
   "source": [
    "# Some good news here:\n",
    "print(f'If you took 2 doses of Sinovac, and without commorbidities, you have {covid_deaths_by_brand.Sinovac/covid_deaths_original.shape[0]*100:.2f}% chance of death by covid')\n",
    "print(f'If you took 2 doses of Pfizer, and without commorbidities, you have {covid_deaths_by_brand.Pfizer/covid_deaths_original.shape[0]*100:.2f}% of death by covid')\n",
    "print(f'If you took 2 doses of AstraZeneca, and without commorbidities, you have {covid_deaths_by_brand.AstraZeneca/covid_deaths_original.shape[0]*100:.2f}% of death by covid')"
   ]
  },
  {
   "cell_type": "code",
   "execution_count": 34,
   "id": "0f6b55b2",
   "metadata": {},
   "outputs": [
    {
     "name": "stdout",
     "output_type": "stream",
     "text": [
      "Male Percentage of Death: 57.44%\n",
      "Female Percentage of Death: 42.56%\n"
     ]
    }
   ],
   "source": [
    "# Male vs Female Covid Death rates - original data without removing commorbidities or unvaccinated.\n",
    "male_percentage = covid_deaths_original[covid_deaths_original[\"male\"] == 1.0].male.sum() / covid_deaths_original.shape[0] * 100\n",
    "female_percentage = 100 - male_percentage\n",
    "print(f'Male Percentage of Death: {male_percentage:.2f}%')\n",
    "print(f'Female Percentage of Death: {female_percentage:.2f}%')"
   ]
  },
  {
   "cell_type": "code",
   "execution_count": 35,
   "id": "4e5888ff",
   "metadata": {},
   "outputs": [
    {
     "name": "stdout",
     "output_type": "stream",
     "text": [
      "Male Percentage of Death - 2 vaccine doses, removed commorbidities: 66.12%\n",
      "Female Percentage of Death - 2 vaccine doses, removed commorbidities: 33.88%\n"
     ]
    },
    {
     "name": "stderr",
     "output_type": "stream",
     "text": [
      "/tmp/ipykernel_13720/3421337934.py:2: UserWarning: Boolean Series key will be reindexed to match DataFrame index.\n",
      "  male_percentage = covid_deaths[covid_deaths_original[\"male\"] == 1.0].male.sum() / covid_deaths.shape[0] * 100\n"
     ]
    }
   ],
   "source": [
    "# Male vs Female Covid Death rates 2 vaccine doses, removed commorbidities\n",
    "male_percentage = covid_deaths[covid_deaths_original[\"male\"] == 1.0].male.sum() / covid_deaths.shape[0] * 100\n",
    "female_percentage = 100 - male_percentage\n",
    "print(f'Male Percentage of Death - 2 vaccine doses, removed commorbidities: {male_percentage:.2f}%')\n",
    "print(f'Female Percentage of Death - 2 vaccine doses, removed commorbidities: {female_percentage:.2f}%')"
   ]
  }
 ],
 "metadata": {
  "kernelspec": {
   "display_name": "Python 3 (ipykernel)",
   "language": "python",
   "name": "python3"
  },
  "language_info": {
   "codemirror_mode": {
    "name": "ipython",
    "version": 3
   },
   "file_extension": ".py",
   "mimetype": "text/x-python",
   "name": "python",
   "nbconvert_exporter": "python",
   "pygments_lexer": "ipython3",
   "version": "3.9.7"
  }
 },
 "nbformat": 4,
 "nbformat_minor": 5
}
